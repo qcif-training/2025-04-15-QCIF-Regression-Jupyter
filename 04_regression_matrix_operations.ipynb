{
 "cells": [
  {
   "cell_type": "markdown",
   "id": "9176b78b-14bd-4e7f-8b8c-1939406e1c8f",
   "metadata": {},
   "source": [
    "# Parallelisation of Matrix Operations"
   ]
  },
  {
   "cell_type": "code",
   "execution_count": null,
   "id": "a3498ee1-f30a-4ee7-a4ab-d850c457b8fa",
   "metadata": {},
   "outputs": [],
   "source": [
    "import os\n",
    "user = os.getenv('USER')\n",
    "os.chdir(f'/scratch/cd82/{user}/notebooks')"
   ]
  },
  {
   "cell_type": "markdown",
   "id": "f53dec6e-f525-47e0-89ff-380e81b55248",
   "metadata": {},
   "source": [
    "### The reason why matrix operations are important\n",
    "\n",
    "In regression, we often use the following computation to solve for ${\\beta}$:\n",
    "<div style=\"border: 0px solid black; padding: 2px; margin: 0;\">\n",
    "$$\n",
    "\\boldsymbol{\\beta} = (\\mathbf{X}^T \\mathbf{X})^{-1}\\mathbf{X}^T \\mathbf{y}\n",
    "$$\n",
    "</div>\n",
    "\n",
    "For *large* datasets $X$, or *many* smaller ones, these operation can take a long time.\n",
    "\n",
    "## BLAS and LAPACK libraries\n",
    "The underlying libraries that are used by the Python NumPy library (and many other data analysis packages) are based on the BLAS and LAPACK software library interfaces. These interfaces are designed to provide a generic interface to linear algebra functions and alow hardware vendors to provide optimised versions of the libraries that perform well on their hardware.  \n",
    "  \n",
    "BLAS libraries provide various fundamental vector-vector, vector-matrix and matrix-matrix operations and\n",
    "LAPACK provides various matrix decompostion, factorisation and solver routines for various matrix types. The library specifies its vector and matrix operations using BLAS functions."
   ]
  },
  {
   "cell_type": "code",
   "execution_count": null,
   "id": "906b4af0-072b-4e0e-a1d0-5e8b33e385d3",
   "metadata": {},
   "outputs": [],
   "source": [
    "import numpy as np\n",
    "np.show_config()"
   ]
  },
  {
   "cell_type": "markdown",
   "id": "f5f263dd-0e79-4855-be17-6944b734a38a",
   "metadata": {},
   "source": [
    "### Controlling the number of threads\n",
    "The BLAS libraries are controlled using environment variables that are sent in the shell being used to run Python.\n",
    "\n",
    "e.g.  \n",
    "- **OMP_NUM_THREADS**  The 'generic' variable used to set the number of threads.\n",
    "- **OPENBLAS_NUM_THREADS** \n",
    "- **MKL_NUM_THREADS**  Used for setting Intel's MKL library\n",
    "  \n",
    "**OMP_NUM_THREADS** should typically be available. It is the generic variable used by the OpenMP library, which is the library that is typically used for parallelisation.\n",
    "  \n",
    "Please note, the variables controlling the number of threads to use need to be set in the environment before the code is run."
   ]
  },
  {
   "cell_type": "code",
   "execution_count": null,
   "id": "ea0c6c80-8685-497b-a170-a30947ca619b",
   "metadata": {},
   "outputs": [],
   "source": [
    "import os\n",
    "user = os.getenv('USER')\n",
    "os.chdir(f'/scratch/cd82/{user}')"
   ]
  },
  {
   "cell_type": "code",
   "execution_count": null,
   "id": "9293a66f-0adf-4be6-8573-45ba4199021d",
   "metadata": {},
   "outputs": [],
   "source": [
    "# The following script will be saved to the filesystem and run in a seperate process, \n",
    "# alowing us to change the environment to change the number of threads used.\n",
    "script = \"\"\"\n",
    "import numpy as np\n",
    "import time\n",
    "import os\n",
    "\n",
    "ob_nthreads = os.getenv('OPENBLAS_NUM_THREADS') \n",
    "mkl_nthreads = os.getenv('MKL_NUM_THREADS')\n",
    "omp_nthreads = os.getenv('OMP_NUM_THREADS') \n",
    "\n",
    "print(f\"Threads: OpenBLAS: {ob_nthreads} MKL: {mkl_nthreads}  OMP: {omp_nthreads} \")\n",
    "\n",
    "threads = {ob_nthreads, mkl_nthreads, omp_nthreads}\n",
    "# select a value that is not 'None'\n",
    "nthreads = [num for num in threads if num is not None]\n",
    "\n",
    "nthreads=max(nthreads)\n",
    "\n",
    "# np.show_config()\n",
    "N=4000\n",
    "\n",
    "# Create two numpy arrays\n",
    "array1 = np.random.rand(N, N)\n",
    "array2 = np.random.rand(N, N)\n",
    "\n",
    "# Start the timer\n",
    "start_time = time.time()\n",
    "\n",
    "# Multiply the arrays\n",
    "result = np.dot(array1, array2)\n",
    "\n",
    "# Stop the timer\n",
    "end_time = time.time()\n",
    "\n",
    "# Calculate the elapsed time\n",
    "elapsed_time = end_time - start_time\n",
    "\n",
    "print(f\"Time taken to multiply the arrays on {nthreads} cores: {elapsed_time} seconds\")\n",
    "\"\"\"\n",
    "with open(\"matrixmult.py\", \"w\") as file:\n",
    "    # Write the string to the file\n",
    "    file.write(script)"
   ]
  },
  {
   "cell_type": "markdown",
   "id": "6287e31d-cde4-40a3-983f-47409dba65cb",
   "metadata": {},
   "source": [
    "### Timing of larger problems\n",
    "Sending larger computations to the supercomputer queue\n",
    "The environemnt variable NCPUS is available on NCI machines that are running the PBS batch system."
   ]
  },
  {
   "cell_type": "code",
   "execution_count": null,
   "id": "d6ae5bbb-7982-4130-9b8e-f6fbc045beb1",
   "metadata": {},
   "outputs": [],
   "source": [
    "!echo \"Number of cores allocated: $NCPUS\""
   ]
  },
  {
   "cell_type": "code",
   "execution_count": null,
   "id": "c45e79fc-3b3b-430e-bd53-62058e6e7e66",
   "metadata": {},
   "outputs": [],
   "source": [
    "import subprocess\n",
    "import os\n",
    "os.environ['OPENBLAS_NUM_THREADS'] = '1'  # Set the number of threads to 1\n",
    "subprocess.run(['python', 'matrixmult.py'])"
   ]
  },
  {
   "cell_type": "code",
   "execution_count": null,
   "id": "6c17e3e8-6d19-4e6d-b25e-86ae20b69ab5",
   "metadata": {},
   "outputs": [],
   "source": [
    "os.environ['OPENBLAS_NUM_THREADS'] = '2'  # Set the number of threads to 2\n",
    "subprocess.run(['python', 'matrixmult.py'])"
   ]
  },
  {
   "cell_type": "code",
   "execution_count": null,
   "id": "af13519e-8590-4983-82bd-5a7d11e5794c",
   "metadata": {},
   "outputs": [],
   "source": [
    "os.environ['OPENBLAS_NUM_THREADS'] = '4'  # Set the number of threads to 4\n",
    "subprocess.run(['python', 'matrixmult.py'])"
   ]
  },
  {
   "cell_type": "code",
   "execution_count": null,
   "id": "d28e0afe-fd3c-4845-b466-1b0e8961cba0",
   "metadata": {},
   "outputs": [],
   "source": []
  }
 ],
 "metadata": {
  "kernelspec": {
   "display_name": "Python (myenv_cmdstan)",
   "language": "python",
   "name": "myenv_cmdstan"
  },
  "language_info": {
   "codemirror_mode": {
    "name": "ipython",
    "version": 3
   },
   "file_extension": ".py",
   "mimetype": "text/x-python",
   "name": "python",
   "nbconvert_exporter": "python",
   "pygments_lexer": "ipython3",
   "version": "3.10.12"
  }
 },
 "nbformat": 4,
 "nbformat_minor": 5
}
