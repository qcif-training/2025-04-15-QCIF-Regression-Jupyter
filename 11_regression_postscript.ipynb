{
 "cells": [
  {
   "cell_type": "markdown",
   "id": "b09e1a96-4780-4fe8-9717-2b16a950a592",
   "metadata": {},
   "source": [
    "# Using Jupyter Notebook Server with a Virtual Environment"
   ]
  },
  {
   "cell_type": "markdown",
   "id": "8b00eae8-afdd-4eb0-aa60-195e8b14a0e5",
   "metadata": {},
   "source": [
    "### How-to setup a Jupyter server\n",
    "If you would like to run a Jupyter notebook server on you laptop, the instructions below install the same libraries as used in todays tutorials into a virtual environment and then gives the command to run the Jupyter server.\n",
    "\n",
    "  N.B. make sure the ```<path/to>``` value is set to where your virtual environemnt has been created.\n",
    "```shell\n",
    "# Create a Python virtual environment:\n",
    "python3 -m venv venv_regression        \n",
    "# Activate the virtual environment\n",
    "source myenv_cmdstan/bin/activate  # On macOS/Linux, different on Windows: .venv\\Scripts\\activate\n",
    "# Install packages\n",
    "pip install jupyter ipykernel ipywidgets cmdstanpy[all] jupyter numpy scikit-learn pandas matplotlib bokeh statsmodels bokeh\n",
    "# Install a ipython kernel configuration (change the value of --prefix= to match where your venv directory is)\n",
    "python3 -m ipykernel install --prefix=<path/to>/venv_regression  --name=venv_regression --display-name \"Python (venv_regression)\"\n",
    "# Start Jupyter Notebook Server\n",
    "# Use the NCI Portal (https://are.nci.org.au/) and specify your new environment in the *Advanced* section of the JupyterLab featured app.\n",
    "# or, Launch on your own system:\n",
    "jupyter notebook\n",
    "# Open the returned link in a web browser and load you workbooks.\n",
    "```"
   ]
  },
  {
   "cell_type": "markdown",
   "id": "d926fa0c-ed7b-4395-94a7-e929baaca86d",
   "metadata": {},
   "source": [
    "### Further resources for linear regression\n",
    "  Some videos of notes of Linear regression, with calculations being described in Jupyter notebooks have been made available by QCIF:\n",
    "\n",
    "[Linear Regression (YouTube)](https://www.youtube.com/watch?v=c7wYnbFaOnU)  \n",
    "[Multiple Linear Regression (YouTube)](https://youtu.be/RcB_jOvVIaY)"
   ]
  },
  {
   "cell_type": "code",
   "execution_count": null,
   "id": "f1f5ca67-e07b-4b02-b2a7-848be9af3454",
   "metadata": {},
   "outputs": [],
   "source": []
  }
 ],
 "metadata": {
  "kernelspec": {
   "display_name": "Python (myenv_cmdstan)",
   "language": "python",
   "name": "myenv_cmdstan"
  },
  "language_info": {
   "codemirror_mode": {
    "name": "ipython",
    "version": 3
   },
   "file_extension": ".py",
   "mimetype": "text/x-python",
   "name": "python",
   "nbconvert_exporter": "python",
   "pygments_lexer": "ipython3",
   "version": "3.10.12"
  }
 },
 "nbformat": 4,
 "nbformat_minor": 5
}
