{
 "cells": [
  {
   "cell_type": "code",
   "execution_count": null,
   "id": "b320be22-ba8d-4ece-bd8c-74055c21dcb0",
   "metadata": {},
   "outputs": [],
   "source": [
    "import os\n",
    "user = os.getenv('USER')\n",
    "os.chdir(f'/scratch/cd82/{user}/notebooks')"
   ]
  },
  {
   "cell_type": "markdown",
   "id": "9f006ce3-0090-46f9-bac3-cc8a7575522b",
   "metadata": {},
   "source": [
    "## Linear Regression - Bayesian Multiple Regression using the Stan library \n",
    "```Stan``` is a library that implements a Bayesian sampling Markov Chain Monte Carlo algorithm to predict the coeffiecients in a model. It has an advantage that parameters from complex, heirachical models can be estimated."
   ]
  },
  {
   "cell_type": "markdown",
   "id": "7c38c1c4-7209-4633-b01a-734c1e5179a9",
   "metadata": {},
   "source": [
    "#### Set up ```cmdstan```\n",
    "We have a pre-installed version of ```cmdstan``` on the scratch/cd82 filesystem, so we just need to tell ```cmdstanpy``` where it is."
   ]
  },
  {
   "cell_type": "code",
   "execution_count": null,
   "id": "4e4d17a7-98df-474d-b19a-cfcf51143478",
   "metadata": {},
   "outputs": [],
   "source": [
    "import numpy as np\n",
    "import pandas as pd\n",
    "import json\n",
    "import cmdstanpy\n",
    "import matplotlib.pyplot as plt\n",
    "import statsmodels.api as sm\n",
    "from sklearn.model_selection import train_test_split\n",
    "from sklearn.metrics import mean_squared_error, r2_score\n",
    "\n",
    "from sklearn.datasets import fetch_california_housing\n",
    "\n",
    "# Load the dataset\n",
    "housing = fetch_california_housing()"
   ]
  },
  {
   "cell_type": "code",
   "execution_count": null,
   "id": "966537f8-4306-4500-9e46-cd66b86429cb",
   "metadata": {},
   "outputs": [],
   "source": [
    "import cmdstanpy\n",
    "import os\n",
    "\n",
    "# install_dir = '/scratch/cd82/regression_cmdstan' # for NCI installation\n",
    "install_dir = os.getenv('HOME')\n",
    "\n",
    "# If we need to install cmdstan\n",
    "cmdstanpy.install_cmdstan(overwrite=True, dir=install_dir)\n",
    "\n",
    "# Pass the installation directory to cmdstanpy\n",
    "cmdstanpy.set_cmdstan_path(install_dir+'/cmdstan-2.36.0/')\n",
    "print(cmdstanpy.cmdstan_path())"
   ]
  },
  {
   "cell_type": "markdown",
   "id": "1c68a64f-f546-4dc3-9d69-7289a44ba4da",
   "metadata": {},
   "source": [
    "#### Set up our data and visualise\n"
   ]
  },
  {
   "cell_type": "code",
   "execution_count": null,
   "id": "3587519e-2aad-4b96-8441-57f40b74d13c",
   "metadata": {},
   "outputs": [],
   "source": [
    "from sklearn.datasets import make_regression\n",
    "\n",
    "X = housing.data\n",
    "y = housing.target\n",
    "\n",
    "print(X.shape)\n",
    "\n",
    "plt.figure(figsize=(8, 4))\n",
    "# Create a box and whisker plot for each feature\n",
    "X_df = pd.DataFrame(X, columns=[housing.feature_names])\n",
    "#y_df = pd.DataFrame(y, columns=['y'])\n",
    "\n",
    "# Create a box and whisker plot for each feature\n",
    "X_df.boxplot()\n",
    "plt.title('California House data')\n",
    "plt.xticks(rotation=45)\n",
    "\n",
    "plt.ylim(-150, 200)\n",
    "\n",
    "plt.ylabel('Values')\n",
    "plt.grid(True)\n",
    "plt.show()\n",
    "\n",
    "# Add a constant to the model (intercept)\n",
    "X_int = sm.add_constant(X)"
   ]
  },
  {
   "cell_type": "code",
   "execution_count": null,
   "id": "ca8b41ce-6777-4e61-b053-15f18709276f",
   "metadata": {},
   "outputs": [],
   "source": [
    "# Split the data\n",
    "X_train, X_test, y_train, y_test = train_test_split(\n",
    "    X_int, y, \n",
    "    test_size=0.2, \n",
    "    random_state=42)\n",
    "\n",
    "\n",
    "N = X_train.shape[0]\n",
    "K = X_train.shape[1]\n",
    "print(X_train.shape)\n",
    "\n",
    "X_train_np = X_train\n",
    "print(type(X_train))"
   ]
  },
  {
   "cell_type": "markdown",
   "id": "6e4ca0f6-437a-4a33-8107-295d7d367195",
   "metadata": {},
   "source": [
    "##### Output data for cmdstan\n",
    "The ```cmdstan``` program requires datasets to be saved to a filesystem as ```JSON``` dictionaries."
   ]
  },
  {
   "cell_type": "code",
   "execution_count": null,
   "id": "98454916-bf14-4579-8a8a-833f42e5ba1b",
   "metadata": {},
   "outputs": [],
   "source": [
    "# N.B. Convert matrix and vector data to Numpy arrays\n",
    "# and then add them to the dictionary as lists\n",
    "stan_data = {'N': N, 'K': K, 'X': X_train_np.tolist(), 'y':y_train.tolist()}\n",
    "\n",
    "N2 = X_test.shape[0]\n",
    "K2 = X_test.shape[1]\n",
    "stan_data_test = {'N': N2, 'K': K2, 'X': X_test.tolist(), 'y':y_test.tolist()}\n",
    "\n",
    "# install_dir = os.getenv('HOME')\n",
    "# point to the file on disk\n",
    "data_file = os.path.join(install_dir, 'stan_data.json')\n",
    "print(\"data_file\", data_file)\n",
    "\n",
    "# Save out dataset\n",
    "with open(data_file, 'w') as file:\n",
    "    json.dump(stan_data, file, indent=4)\n",
    "\n",
    "\n",
    "data_file_test = os.path.join(install_dir, 'stan_data_test.json')\n",
    "print(\"data_file_test\", data_file_test)\n",
    "\n",
    "# save our test data\n",
    "with open(data_file_test, 'w') as file:\n",
    "    json.dump(stan_data_test, file, indent=4)\n"
   ]
  },
  {
   "cell_type": "code",
   "execution_count": null,
   "id": "409fd8af-4436-458a-8ade-eb9a725b5c19",
   "metadata": {},
   "outputs": [],
   "source": [
    "from cmdstanpy import CmdStanModel\n",
    "import time\n",
    "import os\n",
    "# Stan model code\n",
    "stan_model_code = \"\"\"\n",
    "\n",
    "// This describes the input data\n",
    "// Names must match what was saved to JSON data files\n",
    "data {\n",
    "    int<lower=0> N;\n",
    "    int<lower=0> K;\n",
    "    matrix[N, K] X;\n",
    "    vector[N] y;\n",
    "}\n",
    "\n",
    "// These are what are being modelled\n",
    "parameters {\n",
    "    // a constant has been added to the input X data\n",
    "    // so we do not need to model the intercept seperately\n",
    "    // real intercept; \n",
    "    vector[K] beta;\n",
    "    real<lower=0> sigma;\n",
    "    \n",
    "}\n",
    "\n",
    "// This is the 'Prior' definition of our model\n",
    "model {\n",
    "    beta ~ normal(0,1);          // The prior for our beta terms\n",
    "    sigma ~ normal(0,1);         // The prior for the error term\n",
    "    // intercept ~ normal(0, 1); // Not needed due X augmentation with a column of 1's\n",
    "    y ~ normal(X * beta, sigma);\n",
    "}\n",
    "\"\"\"\n",
    "\n",
    "stan_file = os.path.join(install_dir, '/stan_model_code.stan')\n",
    "with open(stan_file, 'w') as file:\n",
    "    file.write(stan_model_code)\n",
    "\n",
    "time.sleep(3)  \n",
    "\n",
    "print(\"stan_file:\", stan_file)\n",
    "\n",
    "model = cmdstanpy.CmdStanModel(stan_file=stan_file)"
   ]
  },
  {
   "cell_type": "markdown",
   "id": "b7c31405-c2f3-44fc-b0e8-cd00100959c8",
   "metadata": {},
   "source": [
    "#### Select the model and print info"
   ]
  },
  {
   "cell_type": "code",
   "execution_count": null,
   "id": "e92edfe0-490b-4f36-acb2-f1096142a3eb",
   "metadata": {},
   "outputs": [],
   "source": [
    "print(model)\n",
    "print(model.exe_info())"
   ]
  },
  {
   "cell_type": "code",
   "execution_count": null,
   "id": "1faa87e3-43dd-4b8b-829d-e6ea487db0d6",
   "metadata": {},
   "outputs": [],
   "source": [
    "# fit the model\n",
    "fit2 = model.sample(data=data_file,  iter_sampling=500, chains=4, parallel_chains=2, max_treedepth=15)"
   ]
  },
  {
   "cell_type": "code",
   "execution_count": null,
   "id": "d6fac731-e002-424d-970f-280f0a07d9a4",
   "metadata": {},
   "outputs": [],
   "source": [
    "# file_path = '/tmp/tmp0w8evyvi/stan_model_code9dqjz_0u/stan_model_code-20250307123500_0-stdout.txt'\n",
    "# file_path = '/tmp/tmp0w8evyvi/stan_model_code9dqjz_0u/stan_model_code-20250307123500_1.csv'\n",
    "# with open(file_path, 'r') as file:\n",
    "#     content = file.read()\n",
    "#     print(content)\n",
    "\n",
    "# mle = model.optimize(data=data_file)\n",
    "# print(mle.column_names)\n",
    "# print(mle.optimized_params_dict)"
   ]
  },
  {
   "cell_type": "code",
   "execution_count": null,
   "id": "57d7d5ec-0776-493c-8763-d62eb0fb0ed7",
   "metadata": {},
   "outputs": [],
   "source": [
    "fit2"
   ]
  },
  {
   "cell_type": "code",
   "execution_count": null,
   "id": "777b48a6-82a6-4b94-a1b3-b1d1898f2ad5",
   "metadata": {},
   "outputs": [],
   "source": [
    "summary = fit2.summary()\n",
    "print(summary)"
   ]
  },
  {
   "cell_type": "code",
   "execution_count": null,
   "id": "6da3c882-c698-4b44-b892-f0958c464a83",
   "metadata": {},
   "outputs": [],
   "source": [
    "print(fit2.diagnose())"
   ]
  },
  {
   "cell_type": "markdown",
   "id": "762183c0-17f9-4e47-9834-6fd161df4bcf",
   "metadata": {},
   "source": [
    "### Compare result with ```statsmodels``` OLS"
   ]
  },
  {
   "cell_type": "code",
   "execution_count": null,
   "id": "79d4a8b1-dded-49a1-b8d2-3c43fa945efc",
   "metadata": {},
   "outputs": [],
   "source": [
    "import statsmodels.api as sm\n",
    "import pandas as pd\n",
    "import numpy as np\n",
    "\n",
    "# Fit the linear regression model\n",
    "model_ols = sm.OLS(y_train,X_train)\n",
    "results_ols = model_ols.fit()\n",
    "\n",
    "# Get the R-squared value\n",
    "r_squared = results_ols.rsquared\n",
    "print('R sqrd (extracted):', r_squared)\n",
    "\n",
    "# Print the summary of the model\n",
    "print(results_ols.summary())\n",
    "\n",
    "# Make predictions - If we had some other data\n",
    "y_pred_sm_ols = results_ols.predict(X_test)"
   ]
  },
  {
   "cell_type": "markdown",
   "id": "52ab4831-0cb4-4ac5-966c-5f2e140a1afd",
   "metadata": {},
   "source": [
    "#### Generate predictions with a ```stan``` model"
   ]
  },
  {
   "cell_type": "code",
   "execution_count": null,
   "id": "9adfdaef-1f59-4343-9e01-45617513e890",
   "metadata": {},
   "outputs": [],
   "source": [
    "# Generate predictions\n",
    "# predictions = model.generate_quantities(data=data_file_test, previous_fit=fit2)\n",
    "\n",
    "beta_samples = fit2.stan_variable('beta')\n",
    "\n",
    "print(type(fit2))\n",
    "print('Column names: ', fit2.column_names)\n",
    "print(type(beta_samples))\n",
    "print(beta_samples.shape)\n",
    "betas_best = beta_samples.mean(axis=0)\n",
    "betas_stdev = beta_samples.std(axis=0)"
   ]
  },
  {
   "cell_type": "code",
   "execution_count": null,
   "id": "56d6a1d0-7728-4ea2-a9e4-77303aa34908",
   "metadata": {},
   "outputs": [],
   "source": [
    "def predict(fit: cmdstanpy.stanfit.mcmc.CmdStanMCMC, paramname: str, data: np.ndarray):\n",
    "    mc_samples = fit.stan_variable(paramname)\n",
    "    ave_vect = mc_samples.mean(axis=0)\n",
    "    predictions = np.dot(data,ave_vect)\n",
    "    return predictions\n",
    "    "
   ]
  },
  {
   "cell_type": "code",
   "execution_count": null,
   "id": "0ee2b51b-83b1-40bc-9635-5de783d309b2",
   "metadata": {},
   "outputs": [],
   "source": [
    "# Use our beta estimates to predict y from the test data\n",
    "y_pred_mc = predict(fit2, 'beta', X_test)"
   ]
  },
  {
   "cell_type": "code",
   "execution_count": null,
   "id": "24cf0ecb-3f3c-4fc3-96a0-a575c677d581",
   "metadata": {},
   "outputs": [],
   "source": [
    "# Evaluate the Stan derived model\n",
    "mse = mean_squared_error(y_test, y_pred_mc)\n",
    "print(f\"Mean Squared Error: {mse}\")\n",
    "r2 = r2_score(y_test, y_pred_mc)\n",
    "print(f\"R² Score: {r2}\")\n",
    "    "
   ]
  },
  {
   "cell_type": "markdown",
   "id": "b5272ba1-9f96-476b-abc6-39a90e079931",
   "metadata": {},
   "source": [
    "#### Save the samples"
   ]
  },
  {
   "cell_type": "code",
   "execution_count": null,
   "id": "45566f15-29a7-48ef-829a-fb08b3717a68",
   "metadata": {},
   "outputs": [],
   "source": [
    "import os\n",
    "install_dir = os.getenv('HOME')\n",
    "outputpath =install_dir+'/stan_outputs'\n",
    "fit2.save_csvfiles(dir=outputpath)"
   ]
  },
  {
   "cell_type": "code",
   "execution_count": null,
   "id": "efb2db98-e7a9-4f34-bce7-d4f65d8218ed",
   "metadata": {},
   "outputs": [],
   "source": [
    "# Reload using:\n",
    "import pandas as pd\n",
    "data = pd.read_csv(data_file)\n",
    "# Convert the DataFrame to a dictionary\n",
    "data_dict = data.to_dict(orient='list')\n",
    "# Compile the Stan model (again if it has been deleted)\n",
    "stan_file = os.path.join(install_dir, '/stan_model_code.stan')\n",
    "model = cmdstanpy.CmdStanModel(stan_file=stan_file)\n",
    "# Fit the model with the loaded data\n",
    "fit_from_disk = model.sample(data=data_dict)"
   ]
  },
  {
   "cell_type": "markdown",
   "id": "90e34403-6749-404d-a773-09ff012dfcf5",
   "metadata": {},
   "source": [
    "## Visualisation"
   ]
  },
  {
   "cell_type": "code",
   "execution_count": null,
   "id": "70e8756f-6d7c-4342-92d8-807a76add594",
   "metadata": {},
   "outputs": [],
   "source": [
    "import matplotlib.pyplot as plt\n",
    "\n",
    "plt.figure(figsize=(8, 4))\n",
    "# Create a box and whisker plot for each feature\n",
    "beta_stan_df = pd.DataFrame(beta_samples,columns=[['intercept'] + housing.feature_names])\n",
    "\n",
    "# Create a box and whisker plot for each feature\n",
    "beta_stan_df.boxplot()\n",
    "plt.title('Synthetic MLR data')\n",
    "plt.xticks(rotation=45)\n",
    "\n",
    "plt.ylim(-26, 2)\n",
    "\n",
    "plt.ylabel('Values')\n",
    "plt.grid(True)\n",
    "plt.show()"
   ]
  },
  {
   "cell_type": "code",
   "execution_count": null,
   "id": "20ee067b-32a9-499a-b9d4-5f4a6783758e",
   "metadata": {},
   "outputs": [],
   "source": [
    "import matplotlib.pyplot as plt\n",
    "print(beta_samples.shape)\n",
    "plt.figure(figsize=(4, 3))\n",
    "plt.hist(beta_samples[:, 4], bins=100, edgecolor='black')\n",
    "plt.title('Histogram of samples (Ave Bedrooms)')\n",
    "plt.xlabel('Value')\n",
    "plt.ylabel('Frequency')\n",
    "plt.show()"
   ]
  },
  {
   "cell_type": "code",
   "execution_count": null,
   "id": "d546f9e1-03c8-4fd6-83d0-0a4fb7e1ddd1",
   "metadata": {},
   "outputs": [],
   "source": []
  }
 ],
 "metadata": {
  "kernelspec": {
   "display_name": "Python (myenv_cmdstan)",
   "language": "python",
   "name": "myenv_cmdstan"
  },
  "language_info": {
   "codemirror_mode": {
    "name": "ipython",
    "version": 3
   },
   "file_extension": ".py",
   "mimetype": "text/x-python",
   "name": "python",
   "nbconvert_exporter": "python",
   "pygments_lexer": "ipython3",
   "version": "3.10.12"
  }
 },
 "nbformat": 4,
 "nbformat_minor": 5
}
