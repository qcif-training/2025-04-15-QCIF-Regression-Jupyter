{
 "cells": [
  {
   "cell_type": "code",
   "execution_count": null,
   "id": "59c15cd1-2e41-4f33-be5d-1094a909a0ba",
   "metadata": {},
   "outputs": [],
   "source": [
    "import os\n",
    "user = os.getenv('USER')\n",
    "os.chdir(f'/scratch/cd82/{user}/notebooks')"
   ]
  },
  {
   "cell_type": "markdown",
   "id": "cda42a85-3354-43a3-a677-b461f41ddee2",
   "metadata": {},
   "source": [
    "### Random Numbers in Python and Statistical Significance"
   ]
  },
  {
   "cell_type": "markdown",
   "id": "58fb750c-ac6d-451d-8a91-6ddecba3d92e",
   "metadata": {},
   "source": [
    "Reference:  \n",
    "```\"Machine Learning with Python for Everyone\", Mark E. Fenner, Addison-Wesley 2020, ISBN-13: 978-0-13-484562-3, pages 21-22```"
   ]
  },
  {
   "cell_type": "markdown",
   "id": "27e81610-405f-4e77-a947-0a33834ba990",
   "metadata": {},
   "source": [
    "### Set up a Random Number Generator\n",
    "Set the seed value so the output is repeatable"
   ]
  },
  {
   "cell_type": "code",
   "execution_count": null,
   "id": "1ac871a5-4a2b-4e26-9a0c-000252989fef",
   "metadata": {},
   "outputs": [],
   "source": [
    "import numpy as np\n",
    "import matplotlib.pyplot as plt\n",
    "\n",
    "seed_seq = np.random.SeedSequence(42)  # The seed for the random number generator.\n",
    "# Create a random number generator instance\n",
    "rng = np.random.default_rng(seed_seq)\n",
    "print(rng.integers(1, 7, 10))\n",
    "# The above code is a replacement for often seen functions of the older parts of the np.random library.\n",
    "# e.g. \n",
    "np.random.seed(42)  # this is a a seperate generator to the one above and a different seed too.\n",
    "print(np.random.randint(1,7, 10))"
   ]
  },
  {
   "cell_type": "markdown",
   "id": "3f06b178-79b1-449a-8324-99b8ce0ea257",
   "metadata": {},
   "source": [
    "### The Gaussian distribution\n",
    "Also known as a *normal distribution*, is characterised by the symmetric bell shape.\n",
    "It is important in statistics due to it being found as the distribution of many natural phenomena, and it is the basis of assumptions in many statistical tests.\n",
    "\n",
    "#### The t-test.  \n",
    "We will use 2 sets of samples as an example of use of the ```t-test``` and resulting ```p``` value to test if the sets are different."
   ]
  },
  {
   "cell_type": "code",
   "execution_count": null,
   "id": "509b5750-ed28-40e8-9863-f10eb9e05631",
   "metadata": {},
   "outputs": [],
   "source": [
    "mean = 0  # Mean of the distribution\n",
    "std_dev = 1  # Standard deviation of the distribution\n",
    "sample_size = 10000  # Number of samples\n",
    "\n",
    "# Generate a single sample from a normal distribution with mean 0 and standard deviation 1\n",
    "gaussian_sample = rng.normal(loc=mean, scale=std_dev, size=sample_size)\n",
    "                    \n",
    "gauss_counts = np.histogram(\n",
    "    gaussian_sample, \n",
    "    bins=np.arange(.5, 7.5))[0]\n",
    "\n",
    "plt.figure(figsize=(4, 3))\n",
    "plt.hist(gaussian_sample, bins=100, edgecolor='black')\n",
    "plt.title('Histogram of Gaussian Distributed Random Sample')\n",
    "plt.xlabel('Value')\n",
    "plt.ylabel('Frequency')\n",
    "plt.show()"
   ]
  },
  {
   "cell_type": "markdown",
   "id": "25d9fbd8-b2e0-4f8f-97d2-b1a4ef7d4507",
   "metadata": {},
   "source": [
    "### Statistical testing\n"
   ]
  },
  {
   "cell_type": "code",
   "execution_count": null,
   "id": "1dc416f7-06f1-422d-8919-6011a04373d4",
   "metadata": {},
   "outputs": [],
   "source": [
    "import numpy as np\n",
    "# import scipy.stats\n",
    "from scipy import stats\n",
    "from scipy.stats import ttest_ind\n",
    "from matplotlib import pyplot as plt\n",
    "\n",
    "# Generate two random samples\n",
    "s1 = rng.normal(loc=5.0, scale=1, size=200)\n",
    "s2 = rng.normal(loc=5.5, scale=1, size=200)\n",
    "\n",
    "print(np.average(s1))\n",
    "print(np.average(s2))\n",
    "\n",
    "# plot the two samples\n",
    "plt.figure(figsize=(4, 3))\n",
    "plt.hist(s1,  bins=20, edgecolor='black')\n",
    "plt.hist(s2,  bins=20, edgecolor='black')\n",
    "plt.title('Histogram of Gaussian Distributed Random Sample')\n",
    "plt.xlabel('Value')\n",
    "plt.ylabel('Frequency')\n",
    "plt.show()\n"
   ]
  },
  {
   "cell_type": "markdown",
   "id": "f771acb2-e90a-492e-9571-099e43dfbd3c",
   "metadata": {},
   "source": [
    "##### Perform one-sample 1-tailed t-test\n",
    "Answers question: Is one set greater/less than a particular value?"
   ]
  },
  {
   "cell_type": "code",
   "execution_count": null,
   "id": "0e4b52df-b1e6-4c97-ae6b-f498b643e658",
   "metadata": {},
   "outputs": [],
   "source": [
    "# Is the mean of s1 greater than 4.0?\n",
    "t11_stat, p11_value = stats.ttest_1samp(s1, 4.0, alternative='greater')\n",
    "print(f\"1 sample 1 tailed: T-statistic: {t11_stat}\")\n",
    "print(f\"1 sample 1 tailed: P-value: {p11_value}\")\n",
    "# A high t-test value and small p value indicates our question is validated by the data\n",
    "# The null-hypothesis can be rejected"
   ]
  },
  {
   "cell_type": "markdown",
   "id": "c7447013-dc71-4a17-92b8-c17e78dc8f66",
   "metadata": {},
   "source": [
    "##### Perform the 2 sample 2-tailed t-test \n",
    "  \n",
    "Answers the question: Is sample mean of s1 not equal to the sample mean of the second sample s2.  \n",
    "  \n",
    "It is the absolute value of the t value that indicates sample difference.  \n",
    "N.B. A negative t-statistic indicates that the sample mean of the first is less than the second"
   ]
  },
  {
   "cell_type": "code",
   "execution_count": null,
   "id": "32884b96-296c-4c46-87fa-ab0372ce14ef",
   "metadata": {},
   "outputs": [],
   "source": [
    "# Answers question: Are they different?\n",
    "t22_stat, p22_value = stats.ttest_ind( s1, s2)\n",
    "\n",
    "print(f\"2 sample 2 tailed: T-statistic: {t22_stat}\")\n",
    "print(f\"2 sample 2 tailed: P-value: {p22_value}\")"
   ]
  },
  {
   "cell_type": "markdown",
   "id": "6c1745cf-04ca-4e58-860e-affe126fc292",
   "metadata": {},
   "source": [
    "##### Two sample 1-tailed test\n",
    "Answers question: Is mean of s2 greater than mean of s1?"
   ]
  },
  {
   "cell_type": "code",
   "execution_count": null,
   "id": "d359f10f-a5e3-47f5-b8a5-780c181eb51f",
   "metadata": {},
   "outputs": [],
   "source": [
    "t21_stat, p21_value = stats.ttest_ind(s2, s1, alternative='less')\n",
    "print(f\"2 sample 1 tailed: T-statistic: {t21_stat}\")\n",
    "print(f\"2 sample 1 tailed: P-value: {p21_value}\")"
   ]
  },
  {
   "cell_type": "markdown",
   "id": "6f5cf0d6-5426-4eea-add7-c2a34196f22d",
   "metadata": {},
   "source": [
    "We would reject the *null hypthesis* that the mean of s2 is less than s1."
   ]
  }
 ],
 "metadata": {
  "kernelspec": {
   "display_name": "Python (myenv_cmdstan)",
   "language": "python",
   "name": "myenv_cmdstan"
  },
  "language_info": {
   "codemirror_mode": {
    "name": "ipython",
    "version": 3
   },
   "file_extension": ".py",
   "mimetype": "text/x-python",
   "name": "python",
   "nbconvert_exporter": "python",
   "pygments_lexer": "ipython3",
   "version": "3.10.12"
  }
 },
 "nbformat": 4,
 "nbformat_minor": 5
}
