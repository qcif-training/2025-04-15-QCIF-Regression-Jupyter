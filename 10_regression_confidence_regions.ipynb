{
 "cells": [
  {
   "cell_type": "code",
   "execution_count": null,
   "id": "b33f7419-88de-486d-8b09-03f606c7c135",
   "metadata": {},
   "outputs": [],
   "source": [
    "import os\n",
    "user = os.getenv('USER')\n",
    "os.chdir(f'/scratch/cd82/{user}/notebooks')"
   ]
  },
  {
   "cell_type": "markdown",
   "id": "ada97a61-193e-4244-8c0d-8909e9465a7c",
   "metadata": {},
   "source": [
    "# Linear Regression - Confidence region of regression line"
   ]
  },
  {
   "cell_type": "markdown",
   "id": "5f4ab0f2-7f3b-43bd-bc51-e568a5deb494",
   "metadata": {},
   "source": [
    "#### Confidence intervals on estimates\n",
    "For a choosen significance level, with degrees of freedom = ${n}-2$\n",
    "$$\n",
    "CSS_x = \\sum_{i=1}^{n} {x^2} - \\frac {( \\sum_{i=1}^{n} {x} )^2  } {n}\n",
    "$$\n",
    "\n",
    "$$\n",
    "\\Delta\\beta_1 =  \\pm t_{(\\alpha/2, {n}-2)} \\sqrt{\\frac{s^2}{CSS_x} }\n",
    "$$\n",
    "\n",
    "$$\n",
    "\\Delta\\beta_0 =  \\pm t_{(\\alpha/2, {n}-2)} \\sqrt{\\frac{s^2 \\cdot \\sum_{i=1}^{n} {x^2} }{n \\cdot CSS_x} }\n",
    "$$\n",
    "\n",
    "- $CSS_x$ is the corrected sum of squares\n",
    "- $\\Delta\\beta_1$ is the error range of the slope \n",
    "- $\\Delta\\beta_0$ is the error range of the intercept\n",
    "- $s^2$ is the variance\n",
    "  "
   ]
  },
  {
   "cell_type": "code",
   "execution_count": null,
   "id": "d3543ef7-6881-4707-b868-c5e418e6fd38",
   "metadata": {},
   "outputs": [],
   "source": [
    "import numpy as np\n",
    "import matplotlib.pyplot as plt\n",
    "from sklearn.linear_model import LinearRegression\n",
    "from sklearn.model_selection import train_test_split\n",
    "from sklearn.metrics import mean_squared_error, r2_score\n",
    "from scipy import stats\n"
   ]
  },
  {
   "cell_type": "code",
   "execution_count": null,
   "id": "32f761d2-1bff-4568-b577-b8b73c0824b7",
   "metadata": {},
   "outputs": [],
   "source": [
    "# Sample data\n",
    "N=100\n",
    "np.random.seed(0)\n",
    "X = np.random.rand(N, 1) * 10\n",
    "y = 5.5 * X.squeeze() + np.random.randn(N) * 6.0\n",
    "\n",
    "# Fit the linear regression model\n",
    "model = LinearRegression()\n",
    "model.fit(X, y)\n",
    "\n",
    "# Predictions\n",
    "X_pred = np.linspace(0, 10, 100).reshape(-1, 1)\n",
    "y_pred = model.predict(X_pred)\n",
    "\n",
    "# The two tail significance\n",
    "significance = 0.95\n",
    "sign_2tail = (1.0 - significance) / 2.0\n",
    "sign_2tail = significance + sign_2tail\n",
    "print('significance =', sign_2tail)\n",
    "\n",
    "# Calculate the confidence intervals\n",
    "n = N # len(X)\n",
    "mse = np.mean((y - model.predict(X))**2)\n",
    "print('mse.shape: ', mse.shape)\n",
    "t_val = stats.t.ppf(significance, n - 2)  # 95% confidence interval in 2-tail test\n",
    "se = np.sqrt(mse * (1/n + (X_pred - np.mean(X))**2 / np.sum((X - np.mean(X))**2)))\n",
    "ci = t_val * se\n",
    "\n",
    "# Plotting\n",
    "plt.figure(figsize=(6, 6))\n",
    "plt.scatter(X, y, color='black', alpha=0.5, label='Data')\n",
    "plt.plot(X_pred, y_pred, color='red', label='Regression Line')\n",
    "plt.fill_between(X_pred.squeeze(), (y_pred - ci.T).T.squeeze(), (y_pred + ci.T).T.squeeze(), \n",
    "                 color='gray', alpha=0.2, label='95% Confidence Interval')\n",
    "plt.xlabel('X')\n",
    "plt.ylabel('y')\n",
    "plt.legend()\n",
    "plt.show()"
   ]
  },
  {
   "cell_type": "code",
   "execution_count": null,
   "id": "4a0ac391-2659-4736-8ef1-fad05ddc0432",
   "metadata": {},
   "outputs": [],
   "source": []
  }
 ],
 "metadata": {
  "kernelspec": {
   "display_name": "Python (myenv_cmdstan)",
   "language": "python",
   "name": "myenv_cmdstan"
  },
  "language_info": {
   "codemirror_mode": {
    "name": "ipython",
    "version": 3
   },
   "file_extension": ".py",
   "mimetype": "text/x-python",
   "name": "python",
   "nbconvert_exporter": "python",
   "pygments_lexer": "ipython3",
   "version": "3.10.12"
  }
 },
 "nbformat": 4,
 "nbformat_minor": 5
}
