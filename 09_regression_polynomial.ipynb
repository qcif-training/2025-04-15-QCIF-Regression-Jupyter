{
 "cells": [
  {
   "cell_type": "markdown",
   "id": "01911288-63a8-41dc-a9f2-44f4866782bc",
   "metadata": {},
   "source": [
    "# Polynomial Regression"
   ]
  },
  {
   "cell_type": "code",
   "execution_count": null,
   "id": "807437a8-a071-48ba-b902-9fff9b6a30c1",
   "metadata": {},
   "outputs": [],
   "source": [
    "import numpy as np\n",
    "import matplotlib.pyplot as plt\n",
    "from sklearn.preprocessing import PolynomialFeatures\n",
    "from sklearn.linear_model import LinearRegression\n",
    "from sklearn.model_selection import train_test_split\n",
    "from sklearn.pipeline import Pipeline\n",
    "from sklearn.metrics import mean_squared_error, r2_score"
   ]
  },
  {
   "cell_type": "code",
   "execution_count": null,
   "id": "0398af05-4217-4516-a10a-f91dc0db1c47",
   "metadata": {},
   "outputs": [],
   "source": [
    "import os\n",
    "user = os.getenv('USER')\n",
    "os.chdir(f'/scratch/cd82/{user}/notebooks')"
   ]
  },
  {
   "cell_type": "code",
   "execution_count": null,
   "id": "6a809a5c-8ae0-4675-9f5e-5cc60462f3c9",
   "metadata": {},
   "outputs": [],
   "source": [
    "# Generate non-linear data\n",
    "N=100\n",
    "np.random.seed(42)\n",
    "X = 6 * np.random.rand(N, 1) - 3  # random  number between 0..1 which is scaled by 6 and offset by -3\n",
    "# Create our dependent data\n",
    "y = 0.5 * X**2 + X + 5 + np.random.randn(N, 1)"
   ]
  },
  {
   "cell_type": "markdown",
   "id": "c44c7023-92be-40dd-8de2-188e4a4f8e0e",
   "metadata": {},
   "source": [
    "##### Plot the data"
   ]
  },
  {
   "cell_type": "code",
   "execution_count": null,
   "id": "f41c32bf-5271-433e-91db-e0723bb62740",
   "metadata": {},
   "outputs": [],
   "source": [
    "plt.figure(figsize=(4, 4))\n",
    "plt.scatter(X, y, \n",
    "    color='blue', label='X,y data')\n",
    "plt.xlabel('X')\n",
    "plt.ylabel('y')\n",
    "plt.title('Polynomial Regression - Plot y vs X')\n",
    "plt.legend()\n",
    "plt.show()"
   ]
  },
  {
   "cell_type": "code",
   "execution_count": null,
   "id": "b87a2e87-86fa-4f76-904c-20524baa2562",
   "metadata": {},
   "outputs": [],
   "source": [
    "# Split the data\n",
    "X_train, X_test, y_train, y_test = train_test_split(\n",
    "    X, y, \n",
    "    test_size=0.2, \n",
    "    random_state=42)"
   ]
  },
  {
   "cell_type": "markdown",
   "id": "69426386-103c-4cdb-931f-3b61a5a98589",
   "metadata": {},
   "source": [
    "#### Polynomial regression using ```sklearn```\n",
    "The Scikit Learn library uses a ```Pipeline``` to create a pre-processing step before the regression fitting task."
   ]
  },
  {
   "cell_type": "code",
   "execution_count": null,
   "id": "b04d35eb-6b36-47be-a6e8-bea1dcf3c411",
   "metadata": {},
   "outputs": [],
   "source": [
    "# Create polynomial regression model (degree=2)\n",
    "poly_model = Pipeline([\n",
    "    (\"poly_features\", PolynomialFeatures(degree=2, include_bias=False)),\n",
    "\t(\"linear_regression\", LinearRegression())\n",
    "])"
   ]
  },
  {
   "cell_type": "code",
   "execution_count": null,
   "id": "58119251-fda0-4345-96ae-19dbd00be59a",
   "metadata": {},
   "outputs": [],
   "source": [
    "# Train the model\n",
    "poly_model.fit(X_train, y_train)"
   ]
  },
  {
   "cell_type": "code",
   "execution_count": null,
   "id": "a99c8fa8-3809-4780-89bd-d67a275d5f8f",
   "metadata": {},
   "outputs": [],
   "source": [
    "# Make predictions\n",
    "y_pred = poly_model.predict(X_test)"
   ]
  },
  {
   "cell_type": "code",
   "execution_count": null,
   "id": "d91b255d-fc0f-4c49-8475-b6426b67ae3e",
   "metadata": {},
   "outputs": [],
   "source": [
    "# Evaluate the model\n",
    "mse = mean_squared_error(y_test, y_pred)\n",
    "r2 = r2_score(y_test, y_pred)\n",
    "\n",
    "print(f\"Mean Squared Error: {mse}\")\n",
    "print(f\"R² Score: {r2}\")"
   ]
  },
  {
   "cell_type": "code",
   "execution_count": null,
   "id": "e6c313df-b208-4d89-8ed0-14cc39109d81",
   "metadata": {},
   "outputs": [],
   "source": [
    "# Plot the results\n",
    "\n",
    "X_plot = np.linspace(-3, 3, 100).reshape(-1, 1)\n",
    "y_plot = poly_model.predict(X_plot)\n",
    "\n",
    "plt.figure(figsize=(4, 4))\n",
    "plt.scatter(X_test, y_test, \n",
    "    color='blue', label='Actual data')\n",
    "plt.plot(X_plot, y_plot, color='red', \n",
    "    linewidth=2, \n",
    "    label='Polynomial regression')\n",
    "plt.xlabel('X')\n",
    "plt.ylabel('y')\n",
    "plt.title('Polynomial Regression')\n",
    "plt.legend()\n",
    "plt.show()"
   ]
  },
  {
   "cell_type": "markdown",
   "id": "d35b5ec4-90e7-427b-9802-e33c5f0962ba",
   "metadata": {},
   "source": [
    "#### Save the pipeline\n",
    "As the model looks good, we can save the pipeline so it can be run on new data."
   ]
  },
  {
   "cell_type": "code",
   "execution_count": null,
   "id": "422cfe12-9fa0-4a02-bbd8-52cb90368f77",
   "metadata": {},
   "outputs": [],
   "source": [
    "import joblib\n",
    "\n",
    "# Save the pipeline to a file\n",
    "joblib.dump(poly_model, 'poly_model.pkl')\n",
    "\n",
    "# Load the pipeline from the file\n",
    "loaded_poly_pipeline = joblib.load('poly_model.pkl')\n",
    "\n",
    "# Preprocess and predict on new data\n",
    "new_data = X_test # Replace with your new dataset\n",
    "predictions = loaded_poly_pipeline.predict(new_data)\n"
   ]
  },
  {
   "cell_type": "markdown",
   "id": "3fa9e636-a3ab-4668-9035-8b916c0fd757",
   "metadata": {},
   "source": [
    "#### Polynomial regression using ```statsmodels```"
   ]
  },
  {
   "cell_type": "markdown",
   "id": "e8349369-6c9b-4b9f-84cd-426f72b99e07",
   "metadata": {},
   "source": [
    "ref.  \n",
    "https://ostwalprasad.github.io/ [Polynomial-Regression-using-statsmodel.html](https://ostwalprasad.github.io/machine-learning/Polynomial-Regression-using-statsmodel.html)"
   ]
  },
  {
   "cell_type": "markdown",
   "id": "c3818d96-39ba-4650-a4f9-f8f2071a52b1",
   "metadata": {},
   "source": [
    "The ```statsmodels``` library does not have an automated method to add polynomial terms, so we can create our own function"
   ]
  },
  {
   "cell_type": "code",
   "execution_count": null,
   "id": "99cba584-bb7c-4e40-9f0e-ccb5d5463d1b",
   "metadata": {},
   "outputs": [],
   "source": [
    "import statsmodels.api as sm\n",
    "\n",
    "# Create a function to add the squared term to the X data\n",
    "def add_sqrd_column(X: np.ndarray, degree: int, index: int=0):\n",
    "    # Select the column to modify\n",
    "    modified_col = X[:, index]\n",
    "    # modify the data to the desired power\n",
    "    square_col = modified_col ** degree\n",
    "    # Add the augmented column to the original matrix\n",
    "    new_matrix = np.column_stack((X, modified_col))\n",
    "    # return the new matrix\n",
    "    return new_matrix\n",
    "\n",
    "# Add the squared value of our data to our training matrix\n",
    "X_train_p = add_sqrd_column(X_train, 2, 0)\n",
    "X_test_p = add_sqrd_column(X_test, 2, 0)\n",
    "# Add a constant to the model data (intercept)\n",
    "X_train_p_int = sm.add_constant(X_train_p)\n",
    "X_test_p_int = sm.add_constant(X_test_p)\n"
   ]
  },
  {
   "cell_type": "code",
   "execution_count": null,
   "id": "cf96e9b2-b590-4dc0-89d3-d641183e2f4a",
   "metadata": {},
   "outputs": [],
   "source": [
    "# We can also use the same Scikit Learn class PolynomialFeatures\n",
    "# It automatically adds an intercept column of 1's\n",
    "from sklearn.preprocessing import PolynomialFeatures\n",
    "polynomial_features= PolynomialFeatures(degree=3)\n",
    "X_train_p_int = polynomial_features.fit_transform(X_train)\n",
    "X_test_p_int = polynomial_features.fit_transform(X_test)\n",
    "\n",
    "\n",
    "import statsmodels.api as sm\n",
    "model_sm = sm.OLS(y_train, X_train_p_int).fit()"
   ]
  },
  {
   "cell_type": "code",
   "execution_count": null,
   "id": "60e45ddc-69e3-496c-a7ee-13f21746c1a4",
   "metadata": {},
   "outputs": [],
   "source": [
    "# Make predictions\n",
    "y_test_pred = model_sm.predict(X_test_p_int) "
   ]
  },
  {
   "cell_type": "code",
   "execution_count": null,
   "id": "7bf10432-0b10-4a5f-a7ae-4b314a17cc15",
   "metadata": {},
   "outputs": [],
   "source": [
    "# Evaluate the model\n",
    "mse = mean_squared_error(y_test, y_test_pred)\n",
    "r2 = r2_score(y_test, y_test_pred)\n",
    "\n",
    "print(f\"Mean Squared Error: {mse}\")\n",
    "print(f\"R² Score: {r2}\")"
   ]
  },
  {
   "cell_type": "code",
   "execution_count": null,
   "id": "5689da78-04e1-4fb3-9fde-ef73626c8ce6",
   "metadata": {},
   "outputs": [],
   "source": [
    "# Plot the results\n",
    "X_plot = np.linspace(-3, 3, 100).reshape(-1, 1)\n",
    "\n",
    "X_plot_p_int = polynomial_features.fit_transform(X_plot)\n",
    "# X_plot_p = add_sqrd_column(X_plot, 0)\n",
    "# X_plot_p_int = sm.add_constant(X_plot_p)\n",
    "\n",
    "y_plot = model_sm.predict(X_plot_p_int) \n",
    "\n",
    "from statsmodels.sandbox.regression.predstd import wls_prediction_std\n",
    "_, upper,lower = wls_prediction_std(model_sm)\n",
    "\n",
    "# plt.plot(X_train_p_int, upper,'--',label=\"Upper\") # confid. intrvl\n",
    "# plt.plot(X_train_p_int, lower,':',label=\"lower\")\n",
    "# plt.legend(loc='upper left')\n",
    "plt.figure(figsize=(4, 4))\n",
    "plt.scatter(X_test, y_test, \n",
    "    color='blue', label='Actual data')\n",
    "plt.plot(X_plot, y_plot, color='red', \n",
    "    linewidth=2, \n",
    "    label='Polynomial regression')\n",
    "plt.xlabel('X')\n",
    "plt.ylabel('y')\n",
    "plt.title('Polynomial Regression')\n",
    "plt.legend()\n",
    "plt.show()"
   ]
  },
  {
   "cell_type": "code",
   "execution_count": null,
   "id": "d83b2974-0b18-47df-8a3b-ba502148455f",
   "metadata": {},
   "outputs": [],
   "source": [
    "model_sm.summary()"
   ]
  },
  {
   "cell_type": "code",
   "execution_count": null,
   "id": "57fdc323-a366-4ecf-bccb-3c83589eb684",
   "metadata": {},
   "outputs": [],
   "source": []
  }
 ],
 "metadata": {
  "kernelspec": {
   "display_name": "Python (myenv_cmdstan)",
   "language": "python",
   "name": "myenv_cmdstan"
  },
  "language_info": {
   "codemirror_mode": {
    "name": "ipython",
    "version": 3
   },
   "file_extension": ".py",
   "mimetype": "text/x-python",
   "name": "python",
   "nbconvert_exporter": "python",
   "pygments_lexer": "ipython3",
   "version": "3.10.12"
  }
 },
 "nbformat": 4,
 "nbformat_minor": 5
}
