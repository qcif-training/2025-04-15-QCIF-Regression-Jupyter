{
 "cells": [
  {
   "cell_type": "code",
   "execution_count": null,
   "id": "fc149cb2-71cf-4504-8bee-fe66b97f88fa",
   "metadata": {},
   "outputs": [],
   "source": [
    "import os\n",
    "user = os.getenv('USER')\n",
    "os.chdir(f'/scratch/cd82/{user}/notebooks')"
   ]
  },
  {
   "cell_type": "markdown",
   "id": "b09e1a96-4780-4fe8-9717-2b16a950a592",
   "metadata": {},
   "source": [
    "## Linear Regression - Cross Validation\n",
    "Cross validation is a method for testing a model using all of the data available. It cycles through selection of a training and test data set, producing test metrics for each model. The test metrics are then used to confirm (or otherwise) that the samples are valid and the quality of the model. \n",
    "  \n",
    "There are many different ways to split the data and Scikit-Learn has a broad range of methods. These include:\n",
    "- KFold\n",
    "- GroupKFold\n",
    "- ShuffleSplit\n",
    "- StratifiedKFold\n",
    "- StratifiedGroupKFold\n",
    "- GroupShuffleSplit\n",
    "- StratifiedShuffleSplit\n",
    "- TimeSeriesSplit\n",
    "\n",
    "An example of how kfold cross validation (with k = 5) can split a data set is shown here:\n",
    "  \n",
    "<img src=\"./grid_search_cross_validation.png\" alt=\"Sample Image\" width=\"800\" height=\"600\">\n",
    "\n",
    "\n",
    "ref:\n",
    "[sklearn.model_selection.cross_validate.html](https://scikit-learn.org/stable/modules/generated/sklearn.model_selection.cross_validate.html)"
   ]
  },
  {
   "cell_type": "code",
   "execution_count": null,
   "id": "d3543ef7-6881-4707-b868-c5e418e6fd38",
   "metadata": {},
   "outputs": [],
   "source": [
    "import numpy as np\n",
    "import matplotlib.pyplot as plt\n",
    "from sklearn.linear_model import LinearRegression\n",
    "from sklearn.model_selection import cross_val_score\n",
    "from sklearn.model_selection import cross_validate\n",
    "from sklearn.metrics import mean_squared_error, r2_score\n"
   ]
  },
  {
   "cell_type": "code",
   "execution_count": null,
   "id": "5e3763e4-e61e-4a8d-aadc-e6e26c803ba0",
   "metadata": {},
   "outputs": [],
   "source": [
    "# Generate sample data\n",
    "N = 30  # the number of samples to be created\n",
    "\n",
    "# The seed for the random number generator.\n",
    "seed_seq = np.random.SeedSequence(42) \n",
    "# Create a random number generator instance\n",
    "rng = np.random.default_rng(seed_seq)\n",
    "\n",
    "rndg = rng.normal(loc=0.0, scale=1, size=N)\n",
    "rndg = rndg.reshape((N, 1))\n",
    "print('rndg shape: ', rndg.shape)\n",
    "\n",
    "# Create X data\n",
    "start_x = 2.0\n",
    "range_x = 2.0\n",
    "\n",
    "X = np.linspace(start_x, start_x+range_x, num=N )\n",
    "X = X.reshape((N, 1))\n",
    "print('X shape: ', X.shape)\n",
    "\n",
    "pc_rand = 0.75  # +- how much randomness to be added to y data\n",
    "\n",
    "# Create y data\n",
    "offset_y = 6.0\n",
    "slope_y = 4.0\n",
    "\n",
    "add_offset = (start_x * slope_y) + offset_y\n",
    "# add_offset =  offset_y\n",
    "y = (( add_offset )+ slope_y * (X - start_x)) + (pc_rand * rndg)\n",
    "print('y shape: ',y.shape)\n",
    "\n"
   ]
  },
  {
   "cell_type": "markdown",
   "id": "81cbaf20-e2e1-4503-92f0-6aa6ed731fee",
   "metadata": {},
   "source": [
    "#### Choices for test metrics\n",
    "The created sub-models produced by cross validation can be scored using different metrics. Choices are:\n",
    "|||\n",
    "|-------------------------------------|------------------------------|\n",
    "|$R^2$                                 | 'r2'                         |\n",
    "|Mean Absolute Error (MAE)            | 'neg_mean_absolute_error'    |\n",
    "|Mean Squared Error (MSE)             | 'neg_mean_squared_error'     |\n",
    "|Root Mean Squared Error (RMSE)       | 'neg_root_mean_squared_error'|\n",
    "|Mean Absolute Percentage Error (MAPE)| 'neg_mean_absolute_percentage_error'|"
   ]
  },
  {
   "cell_type": "code",
   "execution_count": null,
   "id": "e88d5366-1ea5-475f-ac62-5680c3e97362",
   "metadata": {},
   "outputs": [],
   "source": [
    "# Train the model\n",
    "model = LinearRegression()\n",
    "scores = cross_val_score(model, X,y, cv=5, scoring='r2')\n",
    "\n",
    "print(\"Cross-validation scores: \",scores)\n",
    "# model.fit(X_train, y_train)"
   ]
  },
  {
   "cell_type": "code",
   "execution_count": null,
   "id": "5efeb1e8-a873-48c6-bcba-fc324fcb64dd",
   "metadata": {},
   "outputs": [],
   "source": [
    "from sklearn.model_selection import KFold\n",
    "from sklearn.model_selection import cross_validate\n",
    "\n",
    "# The shuffle parameter is important if data has some internal structure\n",
    "kf = KFold(n_splits=5, shuffle=True, random_state=42)\n",
    "# kf = KFold(n_splits=5, shuffle=False)\n",
    "kf.get_n_splits(X)\n",
    "\n",
    "print(kf)\n",
    "\n",
    "# This code prints what samples are in either the test or train split for each fold\n",
    "for i, (train_index, test_index) in enumerate(kf.split(X)):\n",
    "    print(f\"Fold {i}:\")\n",
    "    print(f\"  Train: index={train_index}\")\n",
    "    print(f\"  Test:  index={test_index}\")\n",
    "\n",
    "results = cross_validate(model, X, y, cv=kf, \n",
    "                         scoring=('r2', 'neg_mean_squared_error'),\n",
    "                         return_train_score=True)\n",
    "\n",
    "print(\"Train r^2 scores:\", results['train_r2'])\n",
    "print(\"Test r^2 scores:\", results['test_r2'])\n",
    "\n",
    "print(\"Train mse scores:\", results['train_neg_mean_squared_error'])\n",
    "print(\"Test mse scores:\", results['test_neg_mean_squared_error'])\n"
   ]
  },
  {
   "cell_type": "markdown",
   "id": "0064cb4b-f758-4ae3-9270-9a3fb6d4b0c4",
   "metadata": {},
   "source": [
    "#### Respect groupings in the dataset\n",
    "It is possible to respect groupings of samples in cross-validation by using the ```GroupKFold``` cross-validator"
   ]
  },
  {
   "cell_type": "code",
   "execution_count": null,
   "id": "88a1aad6-142f-45e0-8ff4-4a7c04beaae3",
   "metadata": {},
   "outputs": [],
   "source": [
    "from sklearn.model_selection import GroupKFold\n",
    "\n",
    "# Set an array to specify what sample belongs to what group\n",
    "groups = [i // 5 for i in range(N)]\n",
    "print('Groups = ', groups)\n",
    "group_kfold = GroupKFold(n_splits=4, shuffle=True, random_state=42)\n",
    "\n",
    "# Perform cross-validation\n",
    "results = cross_validate(model, X, y, cv=group_kfold, \n",
    "                         groups=groups,\n",
    "                         scoring=('r2', 'neg_mean_squared_error'),\n",
    "                         return_train_score=True)\n",
    "\n",
    "for i, (train_index, test_index) in enumerate(group_kfold.split(X, groups=groups)):\n",
    "    print(f\"Fold {i}:\")\n",
    "    print(f\"  Train: index={train_index}\")\n",
    "    print(f\"  Test:  index={test_index}\")\n",
    "    \n",
    "print(\"Train scores:\", results['train_r2'])\n",
    "print(\"Test scores:\", results['test_r2'])\n",
    "\n"
   ]
  },
  {
   "cell_type": "markdown",
   "id": "d8822c6e-9304-4bfd-ad82-cc35b2739f8c",
   "metadata": {},
   "source": [
    "#### Detect outliers in the data\n"
   ]
  },
  {
   "cell_type": "code",
   "execution_count": null,
   "id": "843b4a4e-05d6-499f-a78c-f1b815c47876",
   "metadata": {},
   "outputs": [],
   "source": [
    "from sklearn.model_selection import cross_val_predict\n",
    "from scipy.stats import zscore\n",
    "\n",
    "# Create an outlier in the data\n",
    "y[17] = y[16] + 3.0\n",
    "\n",
    "# kf = KFold(n_splits=5, shuffle=False, random_state=None )\n",
    "kf = KFold(n_splits=5, shuffle=True, random_state=42)\n",
    "y_pred = cross_val_predict(model, X, y, cv=kf)\n",
    "\n",
    "for i, (train_index, test_index) in enumerate(kf.split(X)):\n",
    "    print(f\"Fold {i}:\")\n",
    "    print(f\"  Train: index={train_index}\")\n",
    "    print(f\"  Test:  index={test_index}\")\n",
    "\n",
    "# print(predictions)\n",
    "# Calculate residuals\n",
    "residuals = y - y_pred\n",
    "\n",
    "# Detect outliers using z-score (standardised by mean and sd)\n",
    "z_scores = zscore(residuals)\n",
    "\n",
    "# This test finds data points that are more than 3 standard \n",
    "# deviations from the mean indicating they are probable outliers\n",
    "outliers = np.where(np.abs(z_scores) > 3)[0]\n",
    "\n",
    "print(\"Outliers detected at indices:\", outliers)\n"
   ]
  },
  {
   "cell_type": "code",
   "execution_count": null,
   "id": "a8cee755-9ff8-43cb-9035-ad935856b9f8",
   "metadata": {},
   "outputs": [],
   "source": [
    "# Evaluate the model\n",
    "mse = mean_squared_error(y, y_pred)\n",
    "r2 = r2_score(y, y_pred)\n",
    "\n",
    "print(f\"Mean Squared Error: {mse}\")\n",
    "print(f\"R² Score: {r2}\")"
   ]
  },
  {
   "cell_type": "code",
   "execution_count": null,
   "id": "1157bf0e-000e-4dda-a889-99f3950123bf",
   "metadata": {},
   "outputs": [],
   "source": [
    "from sklearn.linear_model import LinearRegression\n",
    "from sklearn.metrics import mean_squared_error, r2_score\n",
    "# Train the model\n",
    "model_skl = LinearRegression()\n",
    "model_skl.fit(X, y)"
   ]
  },
  {
   "cell_type": "code",
   "execution_count": null,
   "id": "4671a2fe-bc88-4347-8d9d-6030b19a9c91",
   "metadata": {},
   "outputs": [],
   "source": [
    "y_pred_skl = model_skl.predict(X)\n",
    "\n",
    "\n",
    "plt.plot(X, y_pred_skl, color='red', \n",
    "         linewidth=1, label='Regression line (SKLearn)')\n",
    "\n",
    "# Plot the results\n",
    "plt.scatter(X, y, s=10, color='blue', label='Actual data')\n",
    "\n",
    "plt.plot(X, y_pred, color='black', \n",
    "         linewidth=1, label='Regression line (cross_val_predict())')\n",
    "\n",
    "plt.scatter(X[outliers], y[outliers], s=10, color='red', label='Outlier data')\n",
    "\n",
    "plt.xlabel('X')\n",
    "plt.ylabel('y')\n",
    "plt.title('Simple Linear Regression')\n",
    "plt.legend()\n",
    "plt.show()"
   ]
  },
  {
   "cell_type": "code",
   "execution_count": null,
   "id": "5b61a065-70a9-4d98-b02e-1fd19442a45c",
   "metadata": {},
   "outputs": [],
   "source": []
  }
 ],
 "metadata": {
  "kernelspec": {
   "display_name": "Python (myenv_cmdstan)",
   "language": "python",
   "name": "myenv_cmdstan"
  },
  "language_info": {
   "codemirror_mode": {
    "name": "ipython",
    "version": 3
   },
   "file_extension": ".py",
   "mimetype": "text/x-python",
   "name": "python",
   "nbconvert_exporter": "python",
   "pygments_lexer": "ipython3",
   "version": "3.10.12"
  }
 },
 "nbformat": 4,
 "nbformat_minor": 5
}
