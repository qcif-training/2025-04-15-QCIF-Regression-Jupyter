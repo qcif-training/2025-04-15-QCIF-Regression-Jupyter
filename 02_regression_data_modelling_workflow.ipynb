{
 "cells": [
  {
   "cell_type": "markdown",
   "id": "11e64723-add1-42d4-9723-9a6124b9be03",
   "metadata": {},
   "source": [
    "# Linear Regression - Data modelling Workflow\n",
    "\n",
    "1. **Formulate problem:**\n",
    "\n",
    "   What are we trying to predict? What is the purpose of the model? \n",
    "    -  *Prediction*: We want a model to predict a value as part of a workflow or process. Statistical validity of the model is not so important.\n",
    "    -  *Estimation*: We want to understand the values of the regression coefficients ($\\beta$ values or weights) and we should look closely at the assumptions used be the model.  \n",
    "    \n",
    "     How accurately do we need the result? Consult with a statistician!  \n",
    "<br></br>\n",
    "3. **Obtain data:**\n",
    "\n",
    "   - Often the most expensive and time consuming part of a study.\n",
    "   - Extract, Transform, Load (ETL):\n",
    "     - Extract\n",
    "       - Identify input data and place into analytics system for pre-processing (e.g. Python).\n",
    "       - Visualise data. A Box and whisker plot gives a good quick overview of ranges, outliers.\n",
    "     - Transform: Clean data - deal with missing values, invalid values, remove duplicates.\n",
    "     - Load: Save to data store (to a database, CSV file, Pickled Pandas dataframe, HDF5 file...)\n",
    "<br></br>\n",
    "5. **Undertake the regression analysis**\n",
    "\n",
    "   1. Load data from data storage.\n",
    "   2. Data exploration and visualistation.\n",
    "   3. Select features.\n",
    "      - Engineer features / augment\n",
    "   5. Scale, normalise, encode (if not done in ETL section).\n",
    "   6. Choose validation methods (dataset split, cross validation).\n",
    "   7. Train model, check assumptions and evaluate performance.\n",
    "      - Are coefficients significant?\n",
    "      - Are residuals: normally distributed, independant?\n",
    "   8. Train alternative models and tune best resulting models.\n",
    "   9. Save model and save the preprocessing methods and values.\n",
    "<br></br>\n",
    "7. **Put into production**\n",
    "\n",
    "   - Document and/or publish results.\n",
    "   - Use in research and business processes\n",
    "   - Monitor performance.  \n",
    "\n",
    "\n",
    "\n",
    "\n"
   ]
  },
  {
   "cell_type": "code",
   "execution_count": null,
   "id": "9b07feae-4953-499c-92c7-556d5a02740d",
   "metadata": {},
   "outputs": [],
   "source": []
  },
  {
   "cell_type": "code",
   "execution_count": null,
   "id": "cb4c044c-422e-4534-a4ac-afeba881c307",
   "metadata": {},
   "outputs": [],
   "source": []
  }
 ],
 "metadata": {
  "kernelspec": {
   "display_name": "Python (myenv_cmdstan)",
   "language": "python",
   "name": "myenv_cmdstan"
  },
  "language_info": {
   "codemirror_mode": {
    "name": "ipython",
    "version": 3
   },
   "file_extension": ".py",
   "mimetype": "text/x-python",
   "name": "python",
   "nbconvert_exporter": "python",
   "pygments_lexer": "ipython3",
   "version": "3.10.12"
  }
 },
 "nbformat": 4,
 "nbformat_minor": 5
}
