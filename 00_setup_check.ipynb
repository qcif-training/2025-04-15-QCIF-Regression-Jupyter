{
 "cells": [
  {
   "cell_type": "markdown",
   "id": "bc44898c-f070-4313-9934-14547fb6479d",
   "metadata": {},
   "source": [
    "### Setting up our environment\n",
    "\n",
    "#### Set your working directory"
   ]
  },
  {
   "cell_type": "code",
   "execution_count": null,
   "id": "e887b0e2-062a-4a01-84de-29e652dac79c",
   "metadata": {},
   "outputs": [],
   "source": [
    "# The jupyter notebook is launched from your $HOME directory.\n",
    "# Change the working directory to your username directory under /scratch/cd82\n",
    "\n",
    "import os\n",
    "user = os.getenv('USER')\n",
    "os.chdir(f'/scratch/cd82/{user}')"
   ]
  },
  {
   "cell_type": "markdown",
   "id": "acd6150c-dc36-4041-aacf-1c7082d7d8f8",
   "metadata": {
    "tags": []
   },
   "source": [
    "#### List the currently loaded modules"
   ]
  },
  {
   "cell_type": "code",
   "execution_count": null,
   "id": "c385be9a-036d-45ad-9d86-6f38010bdb8a",
   "metadata": {},
   "outputs": [],
   "source": [
    "!module list"
   ]
  },
  {
   "cell_type": "markdown",
   "id": "83f5cc3c-03cc-49da-83b1-4176ea67d38e",
   "metadata": {},
   "source": [
    "#### Check that you are using the ```Python(venv_reg)``` kernel\n",
    "Check the top right corner of the workbook and select the correct Python kernel: Python(venv_reg)."
   ]
  },
  {
   "cell_type": "code",
   "execution_count": null,
   "id": "5e88d2d9-d851-4ec1-b1d4-f602ac0b043b",
   "metadata": {},
   "outputs": [],
   "source": [
    "import sys\n",
    "# Print the path to the virtual environment\n",
    "print(\"Virtual environment path:\", sys.prefix)"
   ]
  },
  {
   "cell_type": "markdown",
   "id": "d15f677e-99db-47ea-991e-4b3ff0155046",
   "metadata": {},
   "source": [
    "## Check all libraries are loaded"
   ]
  },
  {
   "cell_type": "code",
   "execution_count": null,
   "id": "9c735e84-8a45-47dd-8f79-938a36bd11c7",
   "metadata": {},
   "outputs": [],
   "source": [
    "import matplotlib\n",
    "print('matplotlib version: ', matplotlib.__version__)"
   ]
  },
  {
   "cell_type": "code",
   "execution_count": null,
   "id": "249c47f4-3b58-4ce0-b3a5-ee4560577e90",
   "metadata": {},
   "outputs": [],
   "source": [
    "import numpy\n",
    "print('numpy version: ', numpy.__version__)"
   ]
  },
  {
   "cell_type": "code",
   "execution_count": null,
   "id": "96b5e00b-e098-4b62-bc44-4c33c234973c",
   "metadata": {},
   "outputs": [],
   "source": [
    "import pandas\n",
    "print('pandas version: ', pandas.__version__)"
   ]
  },
  {
   "cell_type": "code",
   "execution_count": null,
   "id": "77ce7fb2-aac4-4fe6-896e-c2053f649908",
   "metadata": {},
   "outputs": [],
   "source": [
    "import sklearn\n",
    "print('sklearn version: ', sklearn.__version__)"
   ]
  },
  {
   "cell_type": "code",
   "execution_count": null,
   "id": "5e0cfac3-2e86-4e44-b787-4a81cbd1f851",
   "metadata": {},
   "outputs": [],
   "source": [
    "import statsmodels\n",
    "print('statsmodels version: ', statsmodels.__version__)"
   ]
  },
  {
   "cell_type": "code",
   "execution_count": null,
   "id": "c4595620-8711-45ec-9941-c9e43376d0eb",
   "metadata": {},
   "outputs": [],
   "source": [
    "import bokeh\n",
    "print('bokeh version: ', bokeh.__version__)"
   ]
  },
  {
   "cell_type": "code",
   "execution_count": null,
   "id": "9f0c8bae-7fbb-4b18-9e2d-1dc7f3487440",
   "metadata": {},
   "outputs": [],
   "source": [
    "import PIL\n",
    "print('Pillow version: ', PIL.__version__)"
   ]
  },
  {
   "cell_type": "code",
   "execution_count": null,
   "id": "ede54bde-82ab-4399-8513-baa241908f2c",
   "metadata": {},
   "outputs": [],
   "source": [
    "import pywt\n",
    "print('PyWavelets version: ', pywt.__version__)"
   ]
  },
  {
   "cell_type": "code",
   "execution_count": null,
   "id": "82bb339a-d8ae-4058-8e1b-ca6d954e89ab",
   "metadata": {},
   "outputs": [],
   "source": [
    "import cmdstanpy\n",
    "print('cmdstan version: ', cmdstanpy.__version__)"
   ]
  },
  {
   "cell_type": "code",
   "execution_count": null,
   "id": "010122db-2be3-4866-a4e6-717dd52b01d0",
   "metadata": {},
   "outputs": [],
   "source": []
  }
 ],
 "metadata": {
  "kernelspec": {
   "display_name": "Python (myenv_cmdstan)",
   "language": "python",
   "name": "myenv_cmdstan"
  },
  "language_info": {
   "codemirror_mode": {
    "name": "ipython",
    "version": 3
   },
   "file_extension": ".py",
   "mimetype": "text/x-python",
   "name": "python",
   "nbconvert_exporter": "python",
   "pygments_lexer": "ipython3",
   "version": "3.10.12"
  }
 },
 "nbformat": 4,
 "nbformat_minor": 5
}
